{
 "cells": [
  {
   "cell_type": "code",
   "execution_count": 1,
   "id": "b8b1cc88",
   "metadata": {},
   "outputs": [],
   "source": [
    "import json\n",
    "\n",
    "import xgi"
   ]
  },
  {
   "cell_type": "code",
   "execution_count": null,
   "id": "c67e6d45",
   "metadata": {},
   "outputs": [
    {
     "name": "stdout",
     "output_type": "stream",
     "text": [
      "{'id': 'math-ph/0510046', 'submitter': 'Langmann Edwin', 'authors': 'Edwin Langmann, Ari Laptev, Cornelius Paufler', 'title': 'Singular factorizations, self-adjoint extensions, and applications to\\n  quantum many-body physics', 'comments': '17 pages, LaTex', 'journal-ref': None, 'doi': '10.1088/0305-4470/39/5/004', 'report-no': None, 'categories': 'math-ph math.MP', 'license': None, 'abstract': '  We study self-adjoint operators defined by factorizing second order\\ndifferential operators in first order ones. We discuss examples where such\\nfactorizations introduce singular interactions into simple quantum mechanical\\nmodels like the harmonic oscillator or the free particle on the circle. The\\ngeneralization of these examples to the many-body case yields quantum models of\\ndistinguishable and interacting particles in one dimensions which can be solved\\nexplicitly and by simple means. Our considerations lead us to a simple method\\nto construct exactly solvable quantum many-body systems of Calogero-Sutherland\\ntype.\\n', 'versions': [{'version': 'v1', 'created': 'Wed, 12 Oct 2005 09:45:13 GMT'}], 'update_date': '2009-11-11', 'authors_parsed': [['Langmann', 'Edwin', ''], ['Laptev', 'Ari', ''], ['Paufler', 'Cornelius', '']]}\n"
     ]
    },
    {
     "name": "stderr",
     "output_type": "stream",
     "text": [
      "/Users/yyu8dx/Documents/GitHub/xgi/xgi/core/hypergraph.py:597: UserWarning: uid math-ph/0702049 already exists, cannot add edge {'Marek Kuś', 'Ingolf Schäfer'}\n",
      "  warn(f\"uid {idx} already exists, cannot add edge {members}\")\n",
      "/Users/yyu8dx/Documents/GitHub/xgi/xgi/core/hypergraph.py:597: UserWarning: uid math-ph/0512019 already exists, cannot add edge {'V. G. Gueorguiev', 'A. R. P. Rau', 'J. P. Draayer'}\n",
      "  warn(f\"uid {idx} already exists, cannot add edge {members}\")\n",
      "/Users/yyu8dx/Documents/GitHub/xgi/xgi/core/hypergraph.py:597: UserWarning: uid math-ph/0203043 already exists, cannot add edge {'F. Moulin'}\n",
      "  warn(f\"uid {idx} already exists, cannot add edge {members}\")\n",
      "/Users/yyu8dx/Documents/GitHub/xgi/xgi/core/hypergraph.py:597: UserWarning: uid math-ph/0606001 already exists, cannot add edge {'Christian Hainzl', 'Eric Sere', 'Mathieu Lewin'}\n",
      "  warn(f\"uid {idx} already exists, cannot add edge {members}\")\n",
      "/Users/yyu8dx/Documents/GitHub/xgi/xgi/core/hypergraph.py:597: UserWarning: uid math-ph/0007036 already exists, cannot add edge {'Edwin Langmann'}\n",
      "  warn(f\"uid {idx} already exists, cannot add edge {members}\")\n",
      "/Users/yyu8dx/Documents/GitHub/xgi/xgi/core/hypergraph.py:597: UserWarning: uid math-ph/0406061 already exists, cannot add edge {'Edwin Langmann'}\n",
      "  warn(f\"uid {idx} already exists, cannot add edge {members}\")\n",
      "/Users/yyu8dx/Documents/GitHub/xgi/xgi/core/hypergraph.py:597: UserWarning: uid math-ph/0510046 already exists, cannot add edge {'Edwin Langmann', 'Cornelius Paufler', 'Ari Laptev'}\n",
      "  warn(f\"uid {idx} already exists, cannot add edge {members}\")\n",
      "/Users/yyu8dx/Documents/GitHub/xgi/xgi/core/hypergraph.py:597: UserWarning: uid math-ph/0511015 already exists, cannot add edge {'Edwin Langmann'}\n",
      "  warn(f\"uid {idx} already exists, cannot add edge {members}\")\n",
      "/Users/yyu8dx/Documents/GitHub/xgi/xgi/core/hypergraph.py:597: UserWarning: uid math-ph/0606041 already exists, cannot add edge {'Edwin Langmann'}\n",
      "  warn(f\"uid {idx} already exists, cannot add edge {members}\")\n",
      "/Users/yyu8dx/Documents/GitHub/xgi/xgi/core/hypergraph.py:597: UserWarning: uid math-ph/0703090 already exists, cannot add edge {'Martin Hallnäs', 'Edwin Langmann'}\n",
      "  warn(f\"uid {idx} already exists, cannot add edge {members}\")\n",
      "/Users/yyu8dx/Documents/GitHub/xgi/xgi/core/hypergraph.py:597: UserWarning: uid math-ph/0605055 already exists, cannot add edge {'Herintsitohaina Ratsimbarison'}\n",
      "  warn(f\"uid {idx} already exists, cannot add edge {members}\")\n",
      "/Users/yyu8dx/Documents/GitHub/xgi/xgi/core/hypergraph.py:597: UserWarning: uid math-ph/0509047 already exists, cannot add edge {'Wojciech Dybalski', 'Detlev Buchholz'}\n",
      "  warn(f\"uid {idx} already exists, cannot add edge {members}\")\n",
      "/Users/yyu8dx/Documents/GitHub/xgi/xgi/core/hypergraph.py:597: UserWarning: uid math-ph/0611044 already exists, cannot add edge {'Katarzyna Grabowska', 'Paweł Urbański', 'Janusz Grabowski'}\n",
      "  warn(f\"uid {idx} already exists, cannot add edge {members}\")\n"
     ]
    },
    {
     "name": "stdout",
     "output_type": "stream",
     "text": [
      "{'id': 'math-ph/0510046', 'submitter': 'Langmann Edwin', 'authors': 'Edwin Langmann, Ari Laptev, Cornelius Paufler', 'title': 'Singular factorizations, self-adjoint extensions, and applications to\\n  quantum many-body physics', 'comments': '17 pages, LaTex', 'journal-ref': 'J. Phys. A: Math. Gen. 39, 1057 (2006)', 'doi': '10.1088/0305-4470/39/5/004', 'report-no': None, 'categories': 'math-ph math.MP', 'license': None, 'abstract': '  We study self-adjoint operators defined by factorizing second order\\ndifferential operators in first order ones. We discuss examples where such\\nfactorizations introduce singular interactions into simple quantum mechanical\\nmodels like the harmonic oscillator or the free particle on the circle. The\\ngeneralization of these examples to the many-body case yields quantum models of\\ndistinguishable and interacting particles in one dimensions which can be solved\\nexplicitly and by simple means. Our considerations lead us to a simple method\\nto construct exactly solvable quantum many-body systems of Calogero-Sutherland\\ntype.\\n', 'versions': [{'version': 'v1', 'created': 'Wed, 12 Oct 2005 09:45:13 GMT'}], 'update_date': '2025-01-30', 'authors_parsed': [['Langmann', 'Edwin', ''], ['Laptev', 'Ari', ''], ['Paufler', 'Cornelius', '']]}\n"
     ]
    },
    {
     "name": "stderr",
     "output_type": "stream",
     "text": [
      "/Users/yyu8dx/Documents/GitHub/xgi/xgi/core/hypergraph.py:597: UserWarning: uid math-ph/0605066 already exists, cannot add edge {'Robert jr Mallison', 'Pavel Bleher'}\n",
      "  warn(f\"uid {idx} already exists, cannot add edge {members}\")\n",
      "/Users/yyu8dx/Documents/GitHub/xgi/xgi/core/hypergraph.py:597: UserWarning: uid math-ph/0002045 already exists, cannot add edge {'Michael Frank'}\n",
      "  warn(f\"uid {idx} already exists, cannot add edge {members}\")\n"
     ]
    }
   ],
   "source": [
    "H = xgi.Hypergraph()\n",
    "with open(\"arxiv-metadata-oai-snapshot.json\") as f:\n",
    "    for line in f:\n",
    "        try:\n",
    "            entry = json.loads(line)\n",
    "        except:\n",
    "            break\n",
    "        edge = []\n",
    "        for author in entry[\"authors_parsed\"]:\n",
    "            edge.append(\n",
    "                f\"{author[1]} {author[2] + \" \" if author[2] else \"\"}{author[0]}\"\n",
    "            )\n",
    "        H.add_edge(\n",
    "            edge,\n",
    "            idx=entry[\"id\"],\n",
    "            submitter=entry[\"submitter\"],\n",
    "            title=entry[\"title\"],\n",
    "            comments=entry[\"comments\"],\n",
    "            categories=entry[\"categories\"].split(\" \"),\n",
    "            abstract=entry[\"abstract\"],\n",
    "            date=entry[\"update_date\"],\n",
    "        )\n",
    "        # for w in words:\n",
    "        #     if w in data[\"title\"].lower():\n",
    "        #         filtered_articles.append(line)\n",
    "        #         break\n",
    "        # if w in data[\"abstract\"]:\n",
    "        #     filtered_articles.append(line)\n",
    "        #     break"
   ]
  },
  {
   "cell_type": "code",
   "execution_count": 3,
   "id": "9c8d5b5a",
   "metadata": {},
   "outputs": [
    {
     "data": {
      "text/plain": [
       "2765236"
      ]
     },
     "execution_count": 3,
     "metadata": {},
     "output_type": "execute_result"
    }
   ],
   "source": [
    "H.num_edges"
   ]
  },
  {
   "cell_type": "code",
   "execution_count": null,
   "id": "1cdf7082",
   "metadata": {},
   "outputs": [],
   "source": [
    "with open(\"data.jsonl\", mode=\"w\", encoding=\"utf-8\") as f:\n",
    "    for entry in filtered_articles:\n",
    "        f.write(json.dumps(entry, ensure_ascii=False) + \"\\n\")"
   ]
  },
  {
   "cell_type": "code",
   "execution_count": null,
   "id": "4bae7707",
   "metadata": {},
   "outputs": [],
   "source": [
    "data = []\n",
    "with open(\"data.jsonl\", \"r\") as f:\n",
    "    for line in f:\n",
    "        parsed_line = json.loads(json.loads(line))\n",
    "        data.append(parsed_line)"
   ]
  },
  {
   "cell_type": "code",
   "execution_count": null,
   "id": "46c5ac33",
   "metadata": {},
   "outputs": [],
   "source": [
    "import xgi\n",
    "\n",
    "H = xgi.Hypergraph()\n",
    "for entry in data:\n",
    "    edge = []\n",
    "    for author in entry[\"authors_parsed\"]:\n",
    "        edge.append(f\"{author[1]} {author[2] + \" \" if author[2] else \"\"}{author[0]}\")\n",
    "    H.add_edge(\n",
    "        edge,\n",
    "        idx=entry[\"id\"],\n",
    "        submitter=entry[\"submitter\"],\n",
    "        title=entry[\"title\"],\n",
    "        comments=entry[\"comments\"],\n",
    "        categories=entry[\"categories\"].split(\" \"),\n",
    "        abstract=entry[\"abstract\"],\n",
    "        date=entry[\"update_date\"],\n",
    "    )"
   ]
  },
  {
   "cell_type": "code",
   "execution_count": 5,
   "id": "599b9627",
   "metadata": {},
   "outputs": [],
   "source": [
    "xgi.write_hif(H, \"arxiv.json\")"
   ]
  },
  {
   "cell_type": "code",
   "execution_count": null,
   "id": "702831be",
   "metadata": {},
   "outputs": [],
   "source": [
    "H = xgi.read_hif(\"arxiv.json\")\n",
    "H = xgi.cut_to_order(H, 2)\n",
    "H.cleanup(relabel=False)"
   ]
  }
 ],
 "metadata": {
  "kernelspec": {
   "display_name": "xgi",
   "language": "python",
   "name": "python3"
  },
  "language_info": {
   "codemirror_mode": {
    "name": "ipython",
    "version": 3
   },
   "file_extension": ".py",
   "mimetype": "text/x-python",
   "name": "python",
   "nbconvert_exporter": "python",
   "pygments_lexer": "ipython3",
   "version": "3.13.3"
  }
 },
 "nbformat": 4,
 "nbformat_minor": 5
}
